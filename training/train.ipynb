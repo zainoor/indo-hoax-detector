{
 "cells": [
  {
   "cell_type": "code",
   "execution_count": 7,
   "id": "75f8b1c5",
   "metadata": {},
   "outputs": [
    {
     "name": "stdout",
     "output_type": "stream",
     "text": [
      "                                             cleaned  label\n",
      "0  kota dunia rawan risiko lancong saran asuransi...      0\n",
      "1  rasa fitur corolla cross hybrid gr sport lengk...      0\n",
      "2  hasil man united vs paok gol diallo hadir poin...      0\n",
      "3  temu prabowo menkes lapor potensi kerja asingg...      0\n",
      "4  ras kucing bulu tebal jakarta kompascom salah ...      0\n",
      "label\n",
      "1    2993\n",
      "0    2735\n",
      "Name: count, dtype: int64\n"
     ]
    }
   ],
   "source": [
    "import pandas as pd\n",
    "\n",
    "df = pd.read_csv(\"../cleandataset/hoax_dataset_merged.csv\")\n",
    "print(df.head())\n",
    "print(df['label'].value_counts())  # Check class balance"
   ]
  },
  {
   "cell_type": "code",
   "execution_count": null,
   "id": "9e11da9e",
   "metadata": {},
   "outputs": [],
   "source": [
    "from sklearn.feature_extraction.text import TfidfVectorizer\n",
    "\n",
    "vectorizer = TfidfVectorizer(max_features=5000)  # Limit to top 5000 words\n",
    "X = vectorizer.fit_transform(df['cleaned'])  # 'cleaned' = preprocessed text\n",
    "y = df['label']"
   ]
  },
  {
   "cell_type": "code",
   "execution_count": 9,
   "id": "7b2e11b5",
   "metadata": {},
   "outputs": [],
   "source": [
    "from sklearn.model_selection import train_test_split\n",
    "\n",
    "X_train, X_test, y_train, y_test = train_test_split(\n",
    "    X, y, test_size=0.2, random_state=42\n",
    ")"
   ]
  },
  {
   "cell_type": "code",
   "execution_count": 10,
   "id": "8b0fc8e7",
   "metadata": {},
   "outputs": [
    {
     "name": "stdout",
     "output_type": "stream",
     "text": [
      "              precision    recall  f1-score   support\n",
      "\n",
      "           0       0.94      0.97      0.96       551\n",
      "           1       0.98      0.94      0.96       595\n",
      "\n",
      "    accuracy                           0.96      1146\n",
      "   macro avg       0.96      0.96      0.96      1146\n",
      "weighted avg       0.96      0.96      0.96      1146\n",
      "\n"
     ]
    }
   ],
   "source": [
    "from sklearn.linear_model import LogisticRegression\n",
    "from sklearn.metrics import classification_report\n",
    "\n",
    "model = LogisticRegression()\n",
    "model.fit(X_train, y_train)\n",
    "\n",
    "# Predict & evaluate\n",
    "y_pred = model.predict(X_test)\n",
    "print(classification_report(y_test, y_pred))"
   ]
  },
  {
   "cell_type": "code",
   "execution_count": 11,
   "id": "8b6b356c",
   "metadata": {},
   "outputs": [
    {
     "data": {
      "text/plain": [
       "['../models/vectorizer.pkl']"
      ]
     },
     "execution_count": 11,
     "metadata": {},
     "output_type": "execute_result"
    }
   ],
   "source": [
    "import joblib\n",
    "\n",
    "joblib.dump(model, \"../models/hoax_model.pkl\")\n",
    "joblib.dump(vectorizer, \"../models/vectorizer.pkl\")"
   ]
  },
  {
   "cell_type": "code",
   "execution_count": 15,
   "id": "98480141",
   "metadata": {},
   "outputs": [],
   "source": [
    "def get_top_influential_words(text, vectorizer, model, top_n=5):\n",
    "    vectorized = vectorizer.transform([text])\n",
    "    coefs = model.coef_[0]  # Logistic regression coefficients\n",
    "    feature_names = vectorizer.get_feature_names_out()\n",
    "    \n",
    "    indices = vectorized.nonzero()[1]  # non-zero indices of features in the text\n",
    "    word_scores = {feature_names[i]: coefs[i] for i in indices}\n",
    "    \n",
    "    # Sort words by absolute coefficient value descending\n",
    "    sorted_words = sorted(word_scores.items(), key=lambda x: abs(x[1]), reverse=True)\n",
    "    \n",
    "    return sorted_words[:top_n]\n"
   ]
  }
 ],
 "metadata": {
  "kernelspec": {
   "display_name": "base",
   "language": "python",
   "name": "python3"
  },
  "language_info": {
   "codemirror_mode": {
    "name": "ipython",
    "version": 3
   },
   "file_extension": ".py",
   "mimetype": "text/x-python",
   "name": "python",
   "nbconvert_exporter": "python",
   "pygments_lexer": "ipython3",
   "version": "3.12.7"
  }
 },
 "nbformat": 4,
 "nbformat_minor": 5
}
