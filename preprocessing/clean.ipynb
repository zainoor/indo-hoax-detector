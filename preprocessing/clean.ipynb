{
 "cells": [
  {
   "cell_type": "markdown",
   "id": "ce6d4a2d",
   "metadata": {},
   "source": [
    "Clean Hoax_Valid.csv"
   ]
  },
  {
   "cell_type": "code",
   "execution_count": 1,
   "id": "a6fb5ea9",
   "metadata": {},
   "outputs": [
    {
     "name": "stderr",
     "output_type": "stream",
     "text": [
      "[nltk_data] Downloading package stopwords to\n",
      "[nltk_data]     C:\\Users\\rzain\\AppData\\Roaming\\nltk_data...\n",
      "[nltk_data]   Package stopwords is already up-to-date!\n"
     ]
    }
   ],
   "source": [
    "import pandas as pd\n",
    "import re\n",
    "import string\n",
    "from Sastrawi.Stemmer.StemmerFactory import StemmerFactory\n",
    "import nltk\n",
    "nltk.download('stopwords')\n",
    "from nltk.corpus import stopwords\n",
    "from tqdm import tqdm"
   ]
  },
  {
   "cell_type": "code",
   "execution_count": null,
   "id": "1a1e45c1",
   "metadata": {},
   "outputs": [
    {
     "name": "stdout",
     "output_type": "stream",
     "text": [
      "Unique labels after mapping: [1 0]\n"
     ]
    }
   ],
   "source": [
    "# Load the dataset\n",
    "df = pd.read_csv(\"../dataset/hoax_valid.csv\")\n",
    "\n",
    "# Normalize text just in case\n",
    "df['label'] = df['label'].map({'hoax': 1, 'valid': 0})\n",
    "\n",
    "# Check for any unmapped or null labels\n",
    "print(\"Unique labels after mapping:\", df['label'].unique())\n",
    "\n",
    "# Save to new file\n",
    "df.to_csv(\"../dataset/hoax_valid_labeled.csv\", index=False)\n"
   ]
  },
  {
   "cell_type": "code",
   "execution_count": null,
   "id": "68e30d9a",
   "metadata": {},
   "outputs": [
    {
     "name": "stderr",
     "output_type": "stream",
     "text": [
      "[nltk_data] Downloading package stopwords to\n",
      "[nltk_data]     C:\\Users\\rzain\\AppData\\Roaming\\nltk_data...\n",
      "[nltk_data]   Package stopwords is already up-to-date!\n",
      "100%|██████████| 5258/5258 [1:14:12<00:00,  1.18it/s]  \n"
     ]
    }
   ],
   "source": [
    "# Load your dataset\n",
    "df = pd.read_csv(\"../dataset/hoax_valid_labeled.csv\")\n",
    "\n",
    "# Set up Indonesian stemmer and stopwords\n",
    "factory = StemmerFactory()\n",
    "stemmer = factory.create_stemmer()\n",
    "stop_words = set(stopwords.words('indonesian'))\n",
    "\n",
    "# Define cleaning function\n",
    "def clean_text(text):\n",
    "    if pd.isnull(text):\n",
    "        return \"\"\n",
    "    text = text.lower()\n",
    "    text = re.sub(r\"http\\S+|www\\S+|https\\S+\", \"\", text)\n",
    "    text = re.sub(r\"\\d+\", \"\", text)\n",
    "    text = text.translate(str.maketrans(\"\", \"\", string.punctuation))\n",
    "    text = re.sub(r\"\\s+\", \" \", text).strip()\n",
    "    \n",
    "    tokens = text.split()\n",
    "    tokens = [word for word in tokens if word not in stop_words]\n",
    "    stemmed = [stemmer.stem(word) for word in tokens]\n",
    "    \n",
    "    return \" \".join(stemmed)\n",
    "\n",
    "#allow me to see the progress of the code\n",
    "tqdm.pandas() \n",
    "\n",
    "df['cleaned'] = df['berita'].progress_apply(clean_text)\n",
    "\n",
    "# Apply it\n",
    "df['cleaned_text'] = df['berita'].apply(clean_text)\n",
    "\n",
    "# Keep only necessary columns\n",
    "df_final = df[['cleaned_text', 'label']]\n",
    "\n",
    "# Save result\n",
    "df_final.to_csv(\"../cleandataset/hoaxvalid_cleaned.csv\", index=False)\n",
    "\n"
   ]
  },
  {
   "cell_type": "markdown",
   "id": "7b6d0aec",
   "metadata": {},
   "source": [
    "Clean politik.csv"
   ]
  },
  {
   "cell_type": "code",
   "execution_count": null,
   "id": "d5ddc339",
   "metadata": {},
   "outputs": [
    {
     "name": "stderr",
     "output_type": "stream",
     "text": [
      "100%|██████████| 470/470 [03:08<00:00,  2.49it/s]\n"
     ]
    }
   ],
   "source": [
    "# Load dataset\n",
    "df = pd.read_csv(\"../dataset/politik.csv\")\n",
    "\n",
    "# Prepare Indonesian stemmer and stopwords\n",
    "factory = StemmerFactory()\n",
    "stemmer = factory.create_stemmer()\n",
    "indonesian_stopwords = set(stopwords.words(\"indonesian\"))\n",
    "\n",
    "# Define cleaning function\n",
    "def clean_text_indo(text):\n",
    "    if pd.isnull(text):\n",
    "        return \"\"\n",
    "    text = text.lower()\n",
    "    text = re.sub(r\"http\\S+|www\\S+|https\\S+\", \"\", text)\n",
    "    text = re.sub(r\"\\d+\", \"\", text)\n",
    "    text = text.translate(str.maketrans(\"\", \"\", string.punctuation))\n",
    "    text = re.sub(r\"\\s+\", \" \", text).strip()\n",
    "\n",
    "    tokens = text.split()\n",
    "    tokens = [word for word in tokens if word not in indonesian_stopwords]\n",
    "    stemmed = [stemmer.stem(word) for word in tokens]\n",
    "\n",
    "    return \" \".join(stemmed)\n",
    "\n",
    "#Allow me to see progress of the code\n",
    "tqdm.pandas() \n",
    "\n",
    "df['cleaned_text'] = df['text'].progress_apply(clean_text_indo)\n",
    "\n",
    "# Apply cleaning\n",
    "df['cleaned_text'] = df['text'].apply(clean_text_indo)\n",
    "\n",
    "# Keep only relevant columns\n",
    "df_cleaned = df[['cleaned_text', 'label']]\n",
    "\n",
    "# Save cleaned version\n",
    "df_cleaned.to_csv(\"../cleandataset/politik_cleaned.csv\", index=False)"
   ]
  }
 ],
 "metadata": {
  "kernelspec": {
   "display_name": "base",
   "language": "python",
   "name": "python3"
  },
  "language_info": {
   "codemirror_mode": {
    "name": "ipython",
    "version": 3
   },
   "file_extension": ".py",
   "mimetype": "text/x-python",
   "name": "python",
   "nbconvert_exporter": "python",
   "pygments_lexer": "ipython3",
   "version": "3.12.7"
  }
 },
 "nbformat": 4,
 "nbformat_minor": 5
}
